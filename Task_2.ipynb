{
 "cells": [
  {
   "cell_type": "markdown",
   "metadata": {},
   "source": [
    "## Задание 1.2. Работа с функциями"
   ]
  },
  {
   "cell_type": "markdown",
   "metadata": {},
   "source": [
    "На складе лежат разные фрукты в разном количестве. Написать функцию, которая на вход принимает любое количество названий фруктов и их количество, а возвращает общее количество фруктов на складе."
   ]
  },
  {
   "cell_type": "markdown",
   "metadata": {},
   "source": [
    "Примеры/Тесты:\n",
    "\n",
    "<i><finction_name>(apple=2, banana=12, pear=9, peach=5) -> 28</i>\n",
    " "
   ]
  },
  {
   "cell_type": "markdown",
   "metadata": {},
   "source": [
    "### Вариант 1"
   ]
  },
  {
   "cell_type": "code",
   "execution_count": 14,
   "metadata": {},
   "outputs": [],
   "source": [
    "def storehouse(**kwargs): # название функции - склад\n",
    "    {print(f\"{name} в количестве {values} кг;\") # тело функции - содержит вывод количества фруктов на экран\n",
    "     for name, values in kwargs.items()} # тело функции - содержит словарь из названия фрукта на складе и его количестве\n",
    "    return print(f'Общее количество фруктов на складе: {sum(kwargs.values())} кг') # в результате выполнения функции будет выводится сумма всех значений количеств фруктов, записанная в красивом формате"
   ]
  },
  {
   "cell_type": "code",
   "execution_count": 15,
   "metadata": {},
   "outputs": [
    {
     "name": "stdout",
     "output_type": "stream",
     "text": [
      "яблок в количестве 2 кг;\n",
      "бананов в количестве 12 кг;\n",
      "груш в количестве 9 кг;\n",
      "персиков в количестве 5 кг;\n",
      "Общее количество фруктов на складе: 28 кг\n"
     ]
    }
   ],
   "source": [
    "# Проверка работоспособности функции на примере из задания:\n",
    "storehouse(\n",
    "    яблок = 2,\n",
    "    бананов = 12,\n",
    "    груш = 9,\n",
    "    персиков = 5\n",
    ")"
   ]
  },
  {
   "cell_type": "markdown",
   "metadata": {},
   "source": [
    "### Вариант 2"
   ]
  },
  {
   "cell_type": "code",
   "execution_count": 32,
   "metadata": {},
   "outputs": [],
   "source": [
    "def storehouse_new(**fruits): # название функции - новый склад\n",
    "    summa = 0 # первоначальная сумма \n",
    "    for fruits, quantity in fruits.items(): # цикл с обращением к словарю\n",
    "        summa = summa + quantity # к сумму прибавляем новое количество и новое значение записываем в переменную сумма\n",
    "    return summa # возвращаем из функции итоговую сумму"
   ]
  },
  {
   "cell_type": "code",
   "execution_count": 31,
   "metadata": {},
   "outputs": [
    {
     "name": "stdout",
     "output_type": "stream",
     "text": [
      "Общее количество фруктов на складе: 28 кг\n"
     ]
    }
   ],
   "source": [
    "# Проверка работоспособности функции на примере из задания:\n",
    "fruits = {\n",
    "    'яблоки':2,\n",
    "    'бананы': 12,\n",
    "    'груши': 9,\n",
    "    'персики': 5\n",
    "    }\n",
    "\n",
    "# обращаемся к созданной выше фукнции \n",
    "summa_fruits = storehouse_new(**fruits)\n",
    "print(f'Общее количество фруктов на складе:', summa_fruits, 'кг') # результат выполнения фугнкции будет представлен в соответсвующем формате"
   ]
  }
 ],
 "metadata": {
  "kernelspec": {
   "display_name": "Python 3",
   "language": "python",
   "name": "python3"
  },
  "language_info": {
   "codemirror_mode": {
    "name": "ipython",
    "version": 3
   },
   "file_extension": ".py",
   "mimetype": "text/x-python",
   "name": "python",
   "nbconvert_exporter": "python",
   "pygments_lexer": "ipython3",
   "version": "3.11.3"
  },
  "orig_nbformat": 4
 },
 "nbformat": 4,
 "nbformat_minor": 2
}
