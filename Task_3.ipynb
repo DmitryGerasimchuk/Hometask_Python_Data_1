{
 "cells": [
  {
   "cell_type": "markdown",
   "metadata": {},
   "source": [
    "## Задание 1.3. Работа со списками в которых есть ошибки"
   ]
  },
  {
   "cell_type": "markdown",
   "metadata": {},
   "source": [
    "Дан список с затратами на рекламу. Но в данных есть ошибки, некоторые затраты имеют отрицательную величину. Удалите такие значения из списка и посчитайте суммарные затраты. Используйте list comprehensions."
   ]
  },
  {
   "cell_type": "markdown",
   "metadata": {},
   "source": [
    "Примеры/Тесты:\n",
    "\n",
    "<i>[-12, 100, 0, 125, -90, 0, 345, 655, -1, 0, 200] -> [100, 0, 125, 0, 345, 655, 0, 200]</i>"
   ]
  },
  {
   "cell_type": "code",
   "execution_count": 26,
   "metadata": {},
   "outputs": [
    {
     "name": "stdout",
     "output_type": "stream",
     "text": [
      "Исправленная версия затрат на рекламу (без учета отрицительных значений) -> [100, 0, 125, 0, 345, 655, 0, 200]\n"
     ]
    },
    {
     "data": {
      "text/plain": [
       "'Суммарные затраты на рекламу составляют: 1425 '"
      ]
     },
     "execution_count": 26,
     "metadata": {},
     "output_type": "execute_result"
    }
   ],
   "source": [
    "list_ad = [-12, 100, 0, 125, -90, 0, 345, 655, -1, 0, 200] # записываем данные в список\n",
    "costs_ad = [i for i in list_ad if i >= 0] # с помощью list comprehensions определяем в списке данные, которые больше или равны 0\n",
    "print(f'Исправленная версия затрат на рекламу (без учета отрицительных значений) -> {costs_ad}') # выводим на экран полученный список значений \n",
    "f\"Суммарные затраты на рекламу составляют: {sum(costs_ad)} \" # суммируем значения в новом списке и выводим на экран в нужном формате"
   ]
  },
  {
   "cell_type": "markdown",
   "metadata": {},
   "source": [
    "### Усложнение задания"
   ]
  },
  {
   "cell_type": "markdown",
   "metadata": {},
   "source": [
    "Удалите отрицательные значения из списка, а нулевые значения замените на None"
   ]
  },
  {
   "cell_type": "markdown",
   "metadata": {},
   "source": [
    "Примеры/Тесты:\n",
    "\n",
    "<i> [-12, 100, 0, 125, -90, 0, 345, 655, -1, 0, 200] -> [100, None, 125, None, 345, 655, None, 200]</i>\n",
    " "
   ]
  },
  {
   "cell_type": "code",
   "execution_count": 24,
   "metadata": {},
   "outputs": [
    {
     "name": "stdout",
     "output_type": "stream",
     "text": [
      "Исправленная версия затрат на рекламу (без учета отрицительных значений) -> [100, None, 125, None, 345, 655, None, 200]\n",
      "Суммарные затраты на рекламу составляют: 1425\n"
     ]
    }
   ],
   "source": [
    "# Опишу код подробнее, так как долго над ним думал:\n",
    "\n",
    "# записываем данные в список\n",
    "list_ad_v2 = [-12, 100, 0, 125, -90, 0, 345, 655, -1, 0, 200]\n",
    "\n",
    "# Удаляем отрицательные значения\n",
    "costs_ad_v2 = [cost for cost in list_ad_v2 if cost >= 0]\n",
    "\n",
    "# Заменяем нулевые значения на None\n",
    "costs_ad_none_v2 = [None if cost == 0 else cost for cost in costs_ad_v2]\n",
    "\n",
    "# выводим на экран измененный список\n",
    "print(f'Исправленная версия затрат на рекламу (без учета отрицительных значений) -> {costs_ad_none_v2}')\n",
    "\n",
    "# находим суммарные затраты, исключая значения None\n",
    "total_costs = sum(cost for cost in costs_ad_none_v2 if cost is not None)\n",
    "\n",
    "print(\"Суммарные затраты на рекламу составляют:\", total_costs)"
   ]
  }
 ],
 "metadata": {
  "kernelspec": {
   "display_name": "Python 3",
   "language": "python",
   "name": "python3"
  },
  "language_info": {
   "codemirror_mode": {
    "name": "ipython",
    "version": 3
   },
   "file_extension": ".py",
   "mimetype": "text/x-python",
   "name": "python",
   "nbconvert_exporter": "python",
   "pygments_lexer": "ipython3",
   "version": "3.11.3"
  },
  "orig_nbformat": 4
 },
 "nbformat": 4,
 "nbformat_minor": 2
}
